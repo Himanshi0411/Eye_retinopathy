{
  "nbformat": 4,
  "nbformat_minor": 0,
  "metadata": {
    "colab": {
      "provenance": []
    },
    "kernelspec": {
      "name": "python3",
      "display_name": "Python 3"
    },
    "language_info": {
      "name": "python"
    }
  },
  "cells": [
    {
      "cell_type": "code",
      "source": [
        "from google.colab import drive\n",
        "drive.mount('/content/drive')"
      ],
      "metadata": {
        "colab": {
          "base_uri": "https://localhost:8080/"
        },
        "id": "DCrbgxkPJcbC",
        "outputId": "1ff368d2-b616-4bce-97be-91e575aa33bb"
      },
      "execution_count": null,
      "outputs": [
        {
          "output_type": "stream",
          "name": "stdout",
          "text": [
            "Mounted at /content/drive\n"
          ]
        }
      ]
    },
    {
      "cell_type": "code",
      "source": [
        "import zipfile\n",
        "import os\n",
        "\n",
        "# Path to the ZIP file in Google Drive\n",
        "zip_file_path = '/content/drive/MyDrive/archive.zip'\n",
        "\n",
        "# Extract the ZIP file\n",
        "with zipfile.ZipFile(zip_file_path, 'r') as zip_ref:\n",
        "    zip_ref.extractall('/content/dataset')\n",
        "\n",
        "# Verify the extraction\n",
        "os.listdir('/content/dataset')"
      ],
      "metadata": {
        "colab": {
          "base_uri": "https://localhost:8080/"
        },
        "id": "8bWFvwg0J2rr",
        "outputId": "58558f38-2440-4300-c881-eceb9f984532"
      },
      "execution_count": null,
      "outputs": [
        {
          "output_type": "execute_result",
          "data": {
            "text/plain": [
              "['Proliferate DR', 'Severe DR', 'Healthy', 'Moderate DR', 'Mild DR']"
            ]
          },
          "metadata": {},
          "execution_count": 14
        }
      ]
    },
    {
      "cell_type": "code",
      "source": [
        "import os\n",
        "import numpy as np\n",
        "from PIL import Image\n",
        "\n",
        "# Path to the extracted dataset\n",
        "dataset_directory = '/content/dataset'\n",
        "\n",
        "# Desired size (width, height) for resizing\n",
        "new_size = (1, 1)  # Example size; adjust as needed\n",
        "\n",
        "# Initialize a list to store flattened images\n",
        "flattened_images = []\n",
        "\n",
        "# Loop through each subfolder in the dataset directory\n",
        "for subfolder in os.listdir(dataset_directory):\n",
        "    subfolder_path = os.path.join(dataset_directory, subfolder)\n",
        "\n",
        "    if os.path.isdir(subfolder_path):  # Ensure it's a directory\n",
        "        # Loop through each image in the subfolder\n",
        "        for image_name in os.listdir(subfolder_path):\n",
        "            if image_name.endswith('.png') or image_name.endswith('.jpg'):\n",
        "                # Full path to the image\n",
        "                image_path = os.path.join(subfolder_path, image_name)\n",
        "\n",
        "                # Load the image\n",
        "                img = Image.open(image_path)\n",
        "\n",
        "                # Resize the image\n",
        "                img_resized = img.resize(new_size)\n",
        "\n",
        "                # Convert the image to grayscale (if needed)\n",
        "                img_resized = img_resized.convert('L')  # 'L' mode is for grayscale\n",
        "\n",
        "                # Convert image to a NumPy array\n",
        "                img_array = np.array(img_resized)\n",
        "\n",
        "                # Flatten the image\n",
        "                img_flattened = img_array.flatten()\n",
        "\n",
        "                # Append to the list of flattened images\n",
        "                flattened_images.append(img_flattened)\n",
        "\n",
        "# Convert the list of flattened images to a NumPy array\n",
        "flattened_images_array = np.array(flattened_images)\n",
        "\n",
        "print(flattened_images_array.shape)  # Output will be (num_images, width * height)\n"
      ],
      "metadata": {
        "colab": {
          "base_uri": "https://localhost:8080/"
        },
        "id": "UuHnoCsJKcbM",
        "outputId": "94df7c9f-94fd-413e-c4c6-b030ef43a77c"
      },
      "execution_count": null,
      "outputs": [
        {
          "output_type": "stream",
          "name": "stdout",
          "text": [
            "(2750, 1)\n"
          ]
        }
      ]
    },
    {
      "cell_type": "code",
      "source": [
        "import os\n",
        "import numpy as np\n",
        "from PIL import Image\n",
        "\n",
        "# Path to the extracted dataset\n",
        "dataset_directory = '/content/dataset'\n",
        "\n",
        "# Desired size (width, height) for resizing\n",
        "new_size = (28, 28)  # Example size; adjust as needed\n",
        "\n",
        "# Initialize a list to store flattened and normalized images\n",
        "normalized_images = []\n",
        "\n",
        "# Loop through each subfolder in the dataset directory\n",
        "for subfolder in os.listdir(dataset_directory):\n",
        "    subfolder_path = os.path.join(dataset_directory, subfolder)\n",
        "\n",
        "    if os.path.isdir(subfolder_path):  # Ensure it's a directory\n",
        "        # Loop through each image in the subfolder\n",
        "        for image_name in os.listdir(subfolder_path):\n",
        "            if image_name.endswith('.png'):\n",
        "                # Full path to the image\n",
        "                image_path = os.path.join(subfolder_path, image_name)\n",
        "\n",
        "                # Load the image\n",
        "                img = Image.open(image_path)\n",
        "\n",
        "                # Resize the image\n",
        "                img_resized = img.resize(new_size)\n",
        "\n",
        "                # Convert the image to grayscale (if needed)\n",
        "                img_resized = img_resized.convert('L')  # 'L' mode is for grayscale\n",
        "\n",
        "                # Convert image to a NumPy array\n",
        "                img_array = np.array(img_resized)\n",
        "\n",
        "                # Normalize the pixel values (0 to 255 -> 0.0 to 1.0)\n",
        "                img_normalized = img_array / 255.0\n",
        "\n",
        "                # Flatten the image\n",
        "                img_flattened = img_normalized.flatten()\n",
        "\n",
        "                # Append to the list of normalized images\n",
        "                normalized_images.append(img_flattened)\n",
        "\n",
        "# Convert the list of normalized images to a NumPy array\n",
        "normalized_images_array = np.array(normalized_images)\n",
        "\n",
        "print(normalized_images_array.shape)  # Output will be (num_images, width * height)\n"
      ],
      "metadata": {
        "colab": {
          "base_uri": "https://localhost:8080/"
        },
        "id": "g-2EMpw4LCC9",
        "outputId": "5bb70f9f-691c-4dad-acb5-e26357c02826"
      },
      "execution_count": null,
      "outputs": [
        {
          "output_type": "stream",
          "name": "stdout",
          "text": [
            "(2750, 784)\n"
          ]
        }
      ]
    },
    {
      "cell_type": "code",
      "source": [
        "import os\n",
        "import numpy as np\n",
        "import pandas as pd\n",
        "from PIL import Image\n",
        "\n",
        "# Path to the extracted dataset\n",
        "dataset_directory = '/content/dataset'\n",
        "\n",
        "# Desired size (width, height) for resizing\n",
        "new_size = (28, 28)  # Example size; adjust as needed\n",
        "\n",
        "# Initialize lists to store images and labels\n",
        "flattened_images = []\n",
        "labels = []\n",
        "\n",
        "# Loop through each subfolder in the dataset directory\n",
        "for subfolder in os.listdir(dataset_directory):\n",
        "    subfolder_path = os.path.join(dataset_directory, subfolder)\n",
        "\n",
        "    if os.path.isdir(subfolder_path):  # Ensure it's a directory\n",
        "        # Loop through each image in the subfolder\n",
        "        for image_name in os.listdir(subfolder_path):\n",
        "            if image_name.endswith('.png') or image_name.endswith('.jpg'):\n",
        "                # Full path to the image\n",
        "                image_path = os.path.join(subfolder_path, image_name)\n",
        "\n",
        "                # Load the image\n",
        "                img = Image.open(image_path)\n",
        "\n",
        "                # Resize the image\n",
        "                img_resized = img.resize(new_size)\n",
        "\n",
        "                # Convert the image to grayscale (if needed)\n",
        "                img_resized = img_resized.convert('L')  # 'L' mode is for grayscale\n",
        "\n",
        "                # Convert image to a NumPy array\n",
        "                img_array = np.array(img_resized)\n",
        "\n",
        "                # Normalize the pixel values (0 to 255 -> 0.0 to 1.0)\n",
        "                img_normalized = img_array / 255.0\n",
        "\n",
        "                # Flatten the image\n",
        "                img_flattened = img_normalized.flatten()\n",
        "\n",
        "                # Append to the list of flattened images\n",
        "                flattened_images.append(img_flattened)\n",
        "\n",
        "                # Append the label (subfolder name) to the labels list\n",
        "                labels.append(subfolder)\n",
        "\n",
        "# Convert the list of flattened images to a NumPy array\n",
        "flattened_images_array = np.array(flattened_images)\n",
        "\n",
        "# Convert labels to a pandas DataFrame\n",
        "labels_df = pd.DataFrame(labels, columns=['Category'])\n",
        "\n",
        "# One-hot encode the categorical labels\n",
        "one_hot_encoded_labels = pd.get_dummies(labels_df['Category'])\n",
        "\n",
        "# Convert the one-hot encoded labels to a NumPy array\n",
        "one_hot_encoded_labels_array = one_hot_encoded_labels.to_numpy()\n",
        "\n",
        "print(flattened_images_array.shape)  # Output: (num_images, width * height)\n",
        "print(one_hot_encoded_labels_array.shape)  # Output: (num_images, num_classes)\n"
      ],
      "metadata": {
        "colab": {
          "base_uri": "https://localhost:8080/"
        },
        "id": "hbvDs2NgLu08",
        "outputId": "e0c8886e-007b-4e4b-9b6a-36ad87a8ba37"
      },
      "execution_count": null,
      "outputs": [
        {
          "output_type": "stream",
          "name": "stdout",
          "text": [
            "(2750, 784)\n",
            "(2750, 5)\n"
          ]
        }
      ]
    },
    {
      "cell_type": "code",
      "source": [
        "import os\n",
        "import numpy as np\n",
        "from PIL import Image\n",
        "from tensorflow.keras.utils import to_categorical  # Updated import\n",
        "\n",
        "# Path to the extracted dataset\n",
        "dataset_directory = '/content/dataset'\n",
        "\n",
        "# Desired size (width, height) for resizing\n",
        "new_size = (28, 28)  # Example size; adjust as needed\n",
        "\n",
        "# Initialize lists to store images and labels\n",
        "flattened_images = []\n",
        "labels = []\n",
        "\n",
        "# Loop through each subfolder in the dataset directory\n",
        "for subfolder in os.listdir(dataset_directory):\n",
        "    subfolder_path = os.path.join(dataset_directory, subfolder)\n",
        "\n",
        "    if os.path.isdir(subfolder_path):  # Ensure it's a directory\n",
        "        # Loop through each image in the subfolder\n",
        "        for image_name in os.listdir(subfolder_path):\n",
        "            if image_name.endswith('.png'):\n",
        "                # Full path to the image\n",
        "                image_path = os.path.join(subfolder_path, image_name)\n",
        "\n",
        "                # Load the image\n",
        "                img = Image.open(image_path)\n",
        "\n",
        "                # Resize the image\n",
        "                img_resized = img.resize(new_size)\n",
        "\n",
        "                # Convert the image to grayscale (if needed)\n",
        "                img_resized = img_resized.convert('L')  # 'L' mode is for grayscale\n",
        "\n",
        "                # Convert image to a NumPy array\n",
        "                img_array = np.array(img_resized)\n",
        "\n",
        "                # Normalize the pixel values (0 to 255 -> 0.0 to 1.0)\n",
        "                img_normalized = img_array / 255.0\n",
        "\n",
        "                # Flatten the image\n",
        "                img_flattened = img_normalized.flatten()\n",
        "\n",
        "                # Append to the list of flattened images\n",
        "                flattened_images.append(img_flattened)\n",
        "\n",
        "                # Append the label (subfolder name) to the labels list\n",
        "                labels.append(subfolder)\n",
        "\n",
        "# Convert the list of flattened images to a NumPy array\n",
        "flattened_images_array = np.array(flattened_images)\n",
        "\n",
        "# Convert the labels to a NumPy array\n",
        "labels_array = np.array(labels)\n",
        "\n",
        "# Encode the labels to integer values\n",
        "from sklearn.preprocessing import LabelEncoder\n",
        "label_encoder = LabelEncoder()\n",
        "y_train = label_encoder.fit_transform(labels_array)\n",
        "\n",
        "# Get the number of classes\n",
        "n_classes = len(np.unique(y_train))\n",
        "\n",
        "# One-hot encode the labels\n",
        "print(\"Shape before one-hot encoding: \", y_train.shape)\n",
        "Y_train = to_categorical(y_train, n_classes)  # Use the updated import here\n",
        "print(\"Shape after one-hot encoding: \", Y_train.shape)\n",
        "\n",
        "# If you had a separate test set, you'd do the same for y_test:\n",
        "# Y_test = np_utils.to_categorical(y_test, n_classes)\n"
      ],
      "metadata": {
        "colab": {
          "base_uri": "https://localhost:8080/"
        },
        "id": "2f9wWQ0xOCgB",
        "outputId": "4e6379b5-0b28-4b08-ebb8-772ab2487a23"
      },
      "execution_count": null,
      "outputs": [
        {
          "output_type": "stream",
          "name": "stdout",
          "text": [
            "Shape before one-hot encoding:  (2750,)\n",
            "Shape after one-hot encoding:  (2750, 5)\n"
          ]
        }
      ]
    },
    {
      "cell_type": "code",
      "source": [
        "import os\n",
        "import numpy as np\n",
        "from PIL import Image\n",
        "from tensorflow.keras.utils import to_categorical  # Updated import\n",
        "\n",
        "# Path to the extracted dataset\n",
        "dataset_directory = '/content/dataset'\n",
        "\n",
        "# Desired size (width, height) for resizing\n",
        "new_size = (28, 28)  # Example size; adjust as needed\n",
        "\n",
        "# Initialize lists to store images and labels\n",
        "flattened_images = []\n",
        "labels = []\n",
        "\n",
        "# Loop through each subfolder in the dataset directory\n",
        "for subfolder in os.listdir(dataset_directory):\n",
        "    subfolder_path = os.path.join(dataset_directory, subfolder)\n",
        "\n",
        "    if os.path.isdir(subfolder_path):  # Ensure it's a directory\n",
        "        # Loop through each image in the subfolder\n",
        "        for image_name in os.listdir(subfolder_path):\n",
        "            if image_name.endswith('.png'):\n",
        "                # Full path to the image\n",
        "                image_path = os.path.join(subfolder_path, image_name)\n",
        "\n",
        "                # Load the image\n",
        "                img = Image.open(image_path)\n",
        "\n",
        "                # Resize the image\n",
        "                img_resized = img.resize(new_size)\n",
        "\n",
        "                # Convert the image to grayscale (if needed)\n",
        "                img_resized = img_resized.convert('L')  # 'L' mode is for grayscale\n",
        "\n",
        "                # Convert image to a NumPy array\n",
        "                img_array = np.array(img_resized)\n",
        "\n",
        "                # Normalize the pixel values (0 to 255 -> 0.0 to 1.0)\n",
        "                img_normalized = img_array / 255.0\n",
        "\n",
        "                # Flatten the image\n",
        "                img_flattened = img_normalized.flatten()\n",
        "\n",
        "                # Append to the list of flattened images\n",
        "                flattened_images.append(img_flattened)\n",
        "\n",
        "                # Append the label (subfolder name) to the labels list\n",
        "                labels.append(subfolder)\n",
        "\n",
        "# Convert the list of flattened images to a NumPy array\n",
        "flattened_images_array = np.array(flattened_images)\n",
        "\n",
        "# Convert the labels to a NumPy array\n",
        "labels_array = np.array(labels)\n",
        "\n",
        "# Encode the labels to integer values\n",
        "from sklearn.preprocessing import LabelEncoder\n",
        "label_encoder = LabelEncoder()\n",
        "y_train = label_encoder.fit_transform(labels_array)\n",
        "y_test = label_encoder.fit_transform(labels_array)\n",
        "\n",
        "# Get the number of classes\n",
        "n_classes = len(np.unique(y_train))\n",
        "\n",
        "# One-hot encode the labels\n",
        "\n",
        "\n",
        "print(\"Shape before one-hot encoding: \", y_train.shape)\n",
        "Y_train = to_categorical(y_train, n_classes)\n",
        "Y_test = to_categorical(y_test, n_classes)\n",
        "print(\"Shape after one-hot encoding: \", Y_train.shape)\n",
        "\n",
        "\n",
        "# If you had a separate test set, you'd do the same for y_test:\n",
        "# Y_test = to_categorical(y_test, n_classes)\n"
      ],
      "metadata": {
        "colab": {
          "base_uri": "https://localhost:8080/"
        },
        "id": "JsixZPnIPd-M",
        "outputId": "b0d4d465-9f1b-461e-f471-eef897a0d284"
      },
      "execution_count": null,
      "outputs": [
        {
          "output_type": "stream",
          "name": "stdout",
          "text": [
            "Shape before one-hot encoding:  (2750,)\n",
            "Shape after one-hot encoding:  (2750, 5)\n"
          ]
        }
      ]
    },
    {
      "cell_type": "code",
      "source": [
        "import tensorflow as tf\n",
        "from tensorflow.keras.models import Sequential\n",
        "from tensorflow.keras.layers import Dense, Dropout\n",
        "\n",
        "# Define the number of input features (flattened image size)\n",
        "input_shape = flattened_images_array.shape[1]  # e.g., 784 for 28x28 images\n",
        "\n",
        "# Define the number of classes\n",
        "n_classes = Y_train.shape[1]  # Output size from one-hot encoding\n",
        "\n",
        "# Build the model\n",
        "model = Sequential()\n",
        "\n",
        "# Input layer (Dense layer)\n",
        "model.add(Dense(512, input_shape=(input_shape,), activation='relu'))\n",
        "model.add(Dropout(0.2))  # Optional: Add dropout to prevent overfitting\n",
        "\n",
        "# Hidden layer 1\n",
        "model.add(Dense(256, activation='relu'))\n",
        "model.add(Dropout(0.2))\n",
        "\n",
        "# Hidden layer 2\n",
        "model.add(Dense(128, activation='relu'))\n",
        "model.add(Dropout(0.2))\n",
        "\n",
        "# Output layer\n",
        "model.add(Dense(n_classes, activation='softmax'))\n",
        "\n",
        "# Compile the model\n",
        "model.compile(optimizer='adam', loss='categorical_crossentropy', metrics=['accuracy'])\n",
        "\n",
        "# Summary of the model architecture\n",
        "model.summary()\n"
      ],
      "metadata": {
        "colab": {
          "base_uri": "https://localhost:8080/",
          "height": 408
        },
        "id": "37L7297UQ5Y8",
        "outputId": "8b308fc7-cf69-483e-a012-0365d1f09836"
      },
      "execution_count": null,
      "outputs": [
        {
          "output_type": "stream",
          "name": "stderr",
          "text": [
            "/usr/local/lib/python3.10/dist-packages/keras/src/layers/core/dense.py:87: UserWarning: Do not pass an `input_shape`/`input_dim` argument to a layer. When using Sequential models, prefer using an `Input(shape)` object as the first layer in the model instead.\n",
            "  super().__init__(activity_regularizer=activity_regularizer, **kwargs)\n"
          ]
        },
        {
          "output_type": "display_data",
          "data": {
            "text/plain": [
              "\u001b[1mModel: \"sequential\"\u001b[0m\n"
            ],
            "text/html": [
              "<pre style=\"white-space:pre;overflow-x:auto;line-height:normal;font-family:Menlo,'DejaVu Sans Mono',consolas,'Courier New',monospace\"><span style=\"font-weight: bold\">Model: \"sequential\"</span>\n",
              "</pre>\n"
            ]
          },
          "metadata": {}
        },
        {
          "output_type": "display_data",
          "data": {
            "text/plain": [
              "┏━━━━━━━━━━━━━━━━━━━━━━━━━━━━━━━━━━━━━━┳━━━━━━━━━━━━━━━━━━━━━━━━━━━━━┳━━━━━━━━━━━━━━━━━┓\n",
              "┃\u001b[1m \u001b[0m\u001b[1mLayer (type)                        \u001b[0m\u001b[1m \u001b[0m┃\u001b[1m \u001b[0m\u001b[1mOutput Shape               \u001b[0m\u001b[1m \u001b[0m┃\u001b[1m \u001b[0m\u001b[1m        Param #\u001b[0m\u001b[1m \u001b[0m┃\n",
              "┡━━━━━━━━━━━━━━━━━━━━━━━━━━━━━━━━━━━━━━╇━━━━━━━━━━━━━━━━━━━━━━━━━━━━━╇━━━━━━━━━━━━━━━━━┩\n",
              "│ dense (\u001b[38;5;33mDense\u001b[0m)                        │ (\u001b[38;5;45mNone\u001b[0m, \u001b[38;5;34m512\u001b[0m)                 │         \u001b[38;5;34m401,920\u001b[0m │\n",
              "├──────────────────────────────────────┼─────────────────────────────┼─────────────────┤\n",
              "│ dropout (\u001b[38;5;33mDropout\u001b[0m)                    │ (\u001b[38;5;45mNone\u001b[0m, \u001b[38;5;34m512\u001b[0m)                 │               \u001b[38;5;34m0\u001b[0m │\n",
              "├──────────────────────────────────────┼─────────────────────────────┼─────────────────┤\n",
              "│ dense_1 (\u001b[38;5;33mDense\u001b[0m)                      │ (\u001b[38;5;45mNone\u001b[0m, \u001b[38;5;34m256\u001b[0m)                 │         \u001b[38;5;34m131,328\u001b[0m │\n",
              "├──────────────────────────────────────┼─────────────────────────────┼─────────────────┤\n",
              "│ dropout_1 (\u001b[38;5;33mDropout\u001b[0m)                  │ (\u001b[38;5;45mNone\u001b[0m, \u001b[38;5;34m256\u001b[0m)                 │               \u001b[38;5;34m0\u001b[0m │\n",
              "├──────────────────────────────────────┼─────────────────────────────┼─────────────────┤\n",
              "│ dense_2 (\u001b[38;5;33mDense\u001b[0m)                      │ (\u001b[38;5;45mNone\u001b[0m, \u001b[38;5;34m128\u001b[0m)                 │          \u001b[38;5;34m32,896\u001b[0m │\n",
              "├──────────────────────────────────────┼─────────────────────────────┼─────────────────┤\n",
              "│ dropout_2 (\u001b[38;5;33mDropout\u001b[0m)                  │ (\u001b[38;5;45mNone\u001b[0m, \u001b[38;5;34m128\u001b[0m)                 │               \u001b[38;5;34m0\u001b[0m │\n",
              "├──────────────────────────────────────┼─────────────────────────────┼─────────────────┤\n",
              "│ dense_3 (\u001b[38;5;33mDense\u001b[0m)                      │ (\u001b[38;5;45mNone\u001b[0m, \u001b[38;5;34m5\u001b[0m)                   │             \u001b[38;5;34m645\u001b[0m │\n",
              "└──────────────────────────────────────┴─────────────────────────────┴─────────────────┘\n"
            ],
            "text/html": [
              "<pre style=\"white-space:pre;overflow-x:auto;line-height:normal;font-family:Menlo,'DejaVu Sans Mono',consolas,'Courier New',monospace\">┏━━━━━━━━━━━━━━━━━━━━━━━━━━━━━━━━━━━━━━┳━━━━━━━━━━━━━━━━━━━━━━━━━━━━━┳━━━━━━━━━━━━━━━━━┓\n",
              "┃<span style=\"font-weight: bold\"> Layer (type)                         </span>┃<span style=\"font-weight: bold\"> Output Shape                </span>┃<span style=\"font-weight: bold\">         Param # </span>┃\n",
              "┡━━━━━━━━━━━━━━━━━━━━━━━━━━━━━━━━━━━━━━╇━━━━━━━━━━━━━━━━━━━━━━━━━━━━━╇━━━━━━━━━━━━━━━━━┩\n",
              "│ dense (<span style=\"color: #0087ff; text-decoration-color: #0087ff\">Dense</span>)                        │ (<span style=\"color: #00d7ff; text-decoration-color: #00d7ff\">None</span>, <span style=\"color: #00af00; text-decoration-color: #00af00\">512</span>)                 │         <span style=\"color: #00af00; text-decoration-color: #00af00\">401,920</span> │\n",
              "├──────────────────────────────────────┼─────────────────────────────┼─────────────────┤\n",
              "│ dropout (<span style=\"color: #0087ff; text-decoration-color: #0087ff\">Dropout</span>)                    │ (<span style=\"color: #00d7ff; text-decoration-color: #00d7ff\">None</span>, <span style=\"color: #00af00; text-decoration-color: #00af00\">512</span>)                 │               <span style=\"color: #00af00; text-decoration-color: #00af00\">0</span> │\n",
              "├──────────────────────────────────────┼─────────────────────────────┼─────────────────┤\n",
              "│ dense_1 (<span style=\"color: #0087ff; text-decoration-color: #0087ff\">Dense</span>)                      │ (<span style=\"color: #00d7ff; text-decoration-color: #00d7ff\">None</span>, <span style=\"color: #00af00; text-decoration-color: #00af00\">256</span>)                 │         <span style=\"color: #00af00; text-decoration-color: #00af00\">131,328</span> │\n",
              "├──────────────────────────────────────┼─────────────────────────────┼─────────────────┤\n",
              "│ dropout_1 (<span style=\"color: #0087ff; text-decoration-color: #0087ff\">Dropout</span>)                  │ (<span style=\"color: #00d7ff; text-decoration-color: #00d7ff\">None</span>, <span style=\"color: #00af00; text-decoration-color: #00af00\">256</span>)                 │               <span style=\"color: #00af00; text-decoration-color: #00af00\">0</span> │\n",
              "├──────────────────────────────────────┼─────────────────────────────┼─────────────────┤\n",
              "│ dense_2 (<span style=\"color: #0087ff; text-decoration-color: #0087ff\">Dense</span>)                      │ (<span style=\"color: #00d7ff; text-decoration-color: #00d7ff\">None</span>, <span style=\"color: #00af00; text-decoration-color: #00af00\">128</span>)                 │          <span style=\"color: #00af00; text-decoration-color: #00af00\">32,896</span> │\n",
              "├──────────────────────────────────────┼─────────────────────────────┼─────────────────┤\n",
              "│ dropout_2 (<span style=\"color: #0087ff; text-decoration-color: #0087ff\">Dropout</span>)                  │ (<span style=\"color: #00d7ff; text-decoration-color: #00d7ff\">None</span>, <span style=\"color: #00af00; text-decoration-color: #00af00\">128</span>)                 │               <span style=\"color: #00af00; text-decoration-color: #00af00\">0</span> │\n",
              "├──────────────────────────────────────┼─────────────────────────────┼─────────────────┤\n",
              "│ dense_3 (<span style=\"color: #0087ff; text-decoration-color: #0087ff\">Dense</span>)                      │ (<span style=\"color: #00d7ff; text-decoration-color: #00d7ff\">None</span>, <span style=\"color: #00af00; text-decoration-color: #00af00\">5</span>)                   │             <span style=\"color: #00af00; text-decoration-color: #00af00\">645</span> │\n",
              "└──────────────────────────────────────┴─────────────────────────────┴─────────────────┘\n",
              "</pre>\n"
            ]
          },
          "metadata": {}
        },
        {
          "output_type": "display_data",
          "data": {
            "text/plain": [
              "\u001b[1m Total params: \u001b[0m\u001b[38;5;34m566,789\u001b[0m (2.16 MB)\n"
            ],
            "text/html": [
              "<pre style=\"white-space:pre;overflow-x:auto;line-height:normal;font-family:Menlo,'DejaVu Sans Mono',consolas,'Courier New',monospace\"><span style=\"font-weight: bold\"> Total params: </span><span style=\"color: #00af00; text-decoration-color: #00af00\">566,789</span> (2.16 MB)\n",
              "</pre>\n"
            ]
          },
          "metadata": {}
        },
        {
          "output_type": "display_data",
          "data": {
            "text/plain": [
              "\u001b[1m Trainable params: \u001b[0m\u001b[38;5;34m566,789\u001b[0m (2.16 MB)\n"
            ],
            "text/html": [
              "<pre style=\"white-space:pre;overflow-x:auto;line-height:normal;font-family:Menlo,'DejaVu Sans Mono',consolas,'Courier New',monospace\"><span style=\"font-weight: bold\"> Trainable params: </span><span style=\"color: #00af00; text-decoration-color: #00af00\">566,789</span> (2.16 MB)\n",
              "</pre>\n"
            ]
          },
          "metadata": {}
        },
        {
          "output_type": "display_data",
          "data": {
            "text/plain": [
              "\u001b[1m Non-trainable params: \u001b[0m\u001b[38;5;34m0\u001b[0m (0.00 B)\n"
            ],
            "text/html": [
              "<pre style=\"white-space:pre;overflow-x:auto;line-height:normal;font-family:Menlo,'DejaVu Sans Mono',consolas,'Courier New',monospace\"><span style=\"font-weight: bold\"> Non-trainable params: </span><span style=\"color: #00af00; text-decoration-color: #00af00\">0</span> (0.00 B)\n",
              "</pre>\n"
            ]
          },
          "metadata": {}
        }
      ]
    },
    {
      "cell_type": "code",
      "source": [
        "import numpy as np\n",
        "from tensorflow.keras.utils import to_categorical\n",
        "from sklearn.model_selection import train_test_split\n",
        "\n",
        "# Assuming you have already loaded and preprocessed your dataset\n",
        "# flattened_images_array contains your image data\n",
        "# labels_array contains your categorical labels\n",
        "\n",
        "# Encode the labels to integer values\n",
        "from sklearn.preprocessing import LabelEncoder\n",
        "label_encoder = LabelEncoder()\n",
        "y_labels = label_encoder.fit_transform(labels_array)\n",
        "\n",
        "# One-hot encode the labels\n",
        "n_classes = len(np.unique(y_labels))\n",
        "Y = to_categorical(y_labels, n_classes)\n",
        "\n",
        "# Split the dataset into training and testing sets\n",
        "X_train, X_test, Y_train, Y_test = train_test_split(flattened_images_array, Y, test_size=0.2, random_state=42)\n",
        "\n",
        "# Check the shapes of X_train and Y_train\n",
        "print(\"X_train shape:\", X_train.shape)\n",
        "print(\"Y_train shape:\", Y_train.shape)\n"
      ],
      "metadata": {
        "colab": {
          "base_uri": "https://localhost:8080/"
        },
        "id": "FfI4yvOTTmNQ",
        "outputId": "afcafd61-06c9-4943-cbb2-dca74b481e9f"
      },
      "execution_count": null,
      "outputs": [
        {
          "output_type": "stream",
          "name": "stdout",
          "text": [
            "X_train shape: (2200, 784)\n",
            "Y_train shape: (2200, 5)\n"
          ]
        }
      ]
    },
    {
      "cell_type": "code",
      "source": [
        "from tensorflow.keras.models import Sequential\n",
        "from tensorflow.keras.layers import Dense, Dropout\n",
        "\n",
        "# Define the model architecture\n",
        "model = Sequential()\n",
        "model.add(Dense(100, input_shape=(784,), activation='relu'))\n",
        "model.add(Dropout(0.2))\n",
        "model.add(Dense(64, activation='relu'))\n",
        "model.add(Dropout(0.2))\n",
        "model.add(Dense(n_classes, activation='softmax'))\n",
        "\n",
        "# Display the model summary\n",
        "model.summary()\n",
        "\n",
        "# Compile the model\n",
        "model.compile(loss='categorical_crossentropy', metrics=['accuracy'], optimizer='adam')\n",
        "\n",
        "# Train the model for 10 epochs\n",
        "history = model.fit(X_train, Y_train, batch_size=128, epochs=10, validation_data=(X_test, Y_test))\n"
      ],
      "metadata": {
        "colab": {
          "base_uri": "https://localhost:8080/",
          "height": 691
        },
        "id": "5HaoDamcTrs4",
        "outputId": "655b3a11-0b87-471f-a5a0-ee5608afa007"
      },
      "execution_count": null,
      "outputs": [
        {
          "output_type": "stream",
          "name": "stderr",
          "text": [
            "/usr/local/lib/python3.10/dist-packages/keras/src/layers/core/dense.py:87: UserWarning: Do not pass an `input_shape`/`input_dim` argument to a layer. When using Sequential models, prefer using an `Input(shape)` object as the first layer in the model instead.\n",
            "  super().__init__(activity_regularizer=activity_regularizer, **kwargs)\n"
          ]
        },
        {
          "output_type": "display_data",
          "data": {
            "text/plain": [
              "\u001b[1mModel: \"sequential_3\"\u001b[0m\n"
            ],
            "text/html": [
              "<pre style=\"white-space:pre;overflow-x:auto;line-height:normal;font-family:Menlo,'DejaVu Sans Mono',consolas,'Courier New',monospace\"><span style=\"font-weight: bold\">Model: \"sequential_3\"</span>\n",
              "</pre>\n"
            ]
          },
          "metadata": {}
        },
        {
          "output_type": "display_data",
          "data": {
            "text/plain": [
              "┏━━━━━━━━━━━━━━━━━━━━━━━━━━━━━━━━━━━━━━┳━━━━━━━━━━━━━━━━━━━━━━━━━━━━━┳━━━━━━━━━━━━━━━━━┓\n",
              "┃\u001b[1m \u001b[0m\u001b[1mLayer (type)                        \u001b[0m\u001b[1m \u001b[0m┃\u001b[1m \u001b[0m\u001b[1mOutput Shape               \u001b[0m\u001b[1m \u001b[0m┃\u001b[1m \u001b[0m\u001b[1m        Param #\u001b[0m\u001b[1m \u001b[0m┃\n",
              "┡━━━━━━━━━━━━━━━━━━━━━━━━━━━━━━━━━━━━━━╇━━━━━━━━━━━━━━━━━━━━━━━━━━━━━╇━━━━━━━━━━━━━━━━━┩\n",
              "│ dense_10 (\u001b[38;5;33mDense\u001b[0m)                     │ (\u001b[38;5;45mNone\u001b[0m, \u001b[38;5;34m100\u001b[0m)                 │          \u001b[38;5;34m78,500\u001b[0m │\n",
              "├──────────────────────────────────────┼─────────────────────────────┼─────────────────┤\n",
              "│ dropout_7 (\u001b[38;5;33mDropout\u001b[0m)                  │ (\u001b[38;5;45mNone\u001b[0m, \u001b[38;5;34m100\u001b[0m)                 │               \u001b[38;5;34m0\u001b[0m │\n",
              "├──────────────────────────────────────┼─────────────────────────────┼─────────────────┤\n",
              "│ dense_11 (\u001b[38;5;33mDense\u001b[0m)                     │ (\u001b[38;5;45mNone\u001b[0m, \u001b[38;5;34m64\u001b[0m)                  │           \u001b[38;5;34m6,464\u001b[0m │\n",
              "├──────────────────────────────────────┼─────────────────────────────┼─────────────────┤\n",
              "│ dropout_8 (\u001b[38;5;33mDropout\u001b[0m)                  │ (\u001b[38;5;45mNone\u001b[0m, \u001b[38;5;34m64\u001b[0m)                  │               \u001b[38;5;34m0\u001b[0m │\n",
              "├──────────────────────────────────────┼─────────────────────────────┼─────────────────┤\n",
              "│ dense_12 (\u001b[38;5;33mDense\u001b[0m)                     │ (\u001b[38;5;45mNone\u001b[0m, \u001b[38;5;34m5\u001b[0m)                   │             \u001b[38;5;34m325\u001b[0m │\n",
              "└──────────────────────────────────────┴─────────────────────────────┴─────────────────┘\n"
            ],
            "text/html": [
              "<pre style=\"white-space:pre;overflow-x:auto;line-height:normal;font-family:Menlo,'DejaVu Sans Mono',consolas,'Courier New',monospace\">┏━━━━━━━━━━━━━━━━━━━━━━━━━━━━━━━━━━━━━━┳━━━━━━━━━━━━━━━━━━━━━━━━━━━━━┳━━━━━━━━━━━━━━━━━┓\n",
              "┃<span style=\"font-weight: bold\"> Layer (type)                         </span>┃<span style=\"font-weight: bold\"> Output Shape                </span>┃<span style=\"font-weight: bold\">         Param # </span>┃\n",
              "┡━━━━━━━━━━━━━━━━━━━━━━━━━━━━━━━━━━━━━━╇━━━━━━━━━━━━━━━━━━━━━━━━━━━━━╇━━━━━━━━━━━━━━━━━┩\n",
              "│ dense_10 (<span style=\"color: #0087ff; text-decoration-color: #0087ff\">Dense</span>)                     │ (<span style=\"color: #00d7ff; text-decoration-color: #00d7ff\">None</span>, <span style=\"color: #00af00; text-decoration-color: #00af00\">100</span>)                 │          <span style=\"color: #00af00; text-decoration-color: #00af00\">78,500</span> │\n",
              "├──────────────────────────────────────┼─────────────────────────────┼─────────────────┤\n",
              "│ dropout_7 (<span style=\"color: #0087ff; text-decoration-color: #0087ff\">Dropout</span>)                  │ (<span style=\"color: #00d7ff; text-decoration-color: #00d7ff\">None</span>, <span style=\"color: #00af00; text-decoration-color: #00af00\">100</span>)                 │               <span style=\"color: #00af00; text-decoration-color: #00af00\">0</span> │\n",
              "├──────────────────────────────────────┼─────────────────────────────┼─────────────────┤\n",
              "│ dense_11 (<span style=\"color: #0087ff; text-decoration-color: #0087ff\">Dense</span>)                     │ (<span style=\"color: #00d7ff; text-decoration-color: #00d7ff\">None</span>, <span style=\"color: #00af00; text-decoration-color: #00af00\">64</span>)                  │           <span style=\"color: #00af00; text-decoration-color: #00af00\">6,464</span> │\n",
              "├──────────────────────────────────────┼─────────────────────────────┼─────────────────┤\n",
              "│ dropout_8 (<span style=\"color: #0087ff; text-decoration-color: #0087ff\">Dropout</span>)                  │ (<span style=\"color: #00d7ff; text-decoration-color: #00d7ff\">None</span>, <span style=\"color: #00af00; text-decoration-color: #00af00\">64</span>)                  │               <span style=\"color: #00af00; text-decoration-color: #00af00\">0</span> │\n",
              "├──────────────────────────────────────┼─────────────────────────────┼─────────────────┤\n",
              "│ dense_12 (<span style=\"color: #0087ff; text-decoration-color: #0087ff\">Dense</span>)                     │ (<span style=\"color: #00d7ff; text-decoration-color: #00d7ff\">None</span>, <span style=\"color: #00af00; text-decoration-color: #00af00\">5</span>)                   │             <span style=\"color: #00af00; text-decoration-color: #00af00\">325</span> │\n",
              "└──────────────────────────────────────┴─────────────────────────────┴─────────────────┘\n",
              "</pre>\n"
            ]
          },
          "metadata": {}
        },
        {
          "output_type": "display_data",
          "data": {
            "text/plain": [
              "\u001b[1m Total params: \u001b[0m\u001b[38;5;34m85,289\u001b[0m (333.16 KB)\n"
            ],
            "text/html": [
              "<pre style=\"white-space:pre;overflow-x:auto;line-height:normal;font-family:Menlo,'DejaVu Sans Mono',consolas,'Courier New',monospace\"><span style=\"font-weight: bold\"> Total params: </span><span style=\"color: #00af00; text-decoration-color: #00af00\">85,289</span> (333.16 KB)\n",
              "</pre>\n"
            ]
          },
          "metadata": {}
        },
        {
          "output_type": "display_data",
          "data": {
            "text/plain": [
              "\u001b[1m Trainable params: \u001b[0m\u001b[38;5;34m85,289\u001b[0m (333.16 KB)\n"
            ],
            "text/html": [
              "<pre style=\"white-space:pre;overflow-x:auto;line-height:normal;font-family:Menlo,'DejaVu Sans Mono',consolas,'Courier New',monospace\"><span style=\"font-weight: bold\"> Trainable params: </span><span style=\"color: #00af00; text-decoration-color: #00af00\">85,289</span> (333.16 KB)\n",
              "</pre>\n"
            ]
          },
          "metadata": {}
        },
        {
          "output_type": "display_data",
          "data": {
            "text/plain": [
              "\u001b[1m Non-trainable params: \u001b[0m\u001b[38;5;34m0\u001b[0m (0.00 B)\n"
            ],
            "text/html": [
              "<pre style=\"white-space:pre;overflow-x:auto;line-height:normal;font-family:Menlo,'DejaVu Sans Mono',consolas,'Courier New',monospace\"><span style=\"font-weight: bold\"> Non-trainable params: </span><span style=\"color: #00af00; text-decoration-color: #00af00\">0</span> (0.00 B)\n",
              "</pre>\n"
            ]
          },
          "metadata": {}
        },
        {
          "output_type": "stream",
          "name": "stdout",
          "text": [
            "Epoch 1/10\n",
            "\u001b[1m18/18\u001b[0m \u001b[32m━━━━━━━━━━━━━━━━━━━━\u001b[0m\u001b[37m\u001b[0m \u001b[1m2s\u001b[0m 19ms/step - accuracy: 0.3016 - loss: 1.5754 - val_accuracy: 0.3582 - val_loss: 1.4450\n",
            "Epoch 2/10\n",
            "\u001b[1m18/18\u001b[0m \u001b[32m━━━━━━━━━━━━━━━━━━━━\u001b[0m\u001b[37m\u001b[0m \u001b[1m0s\u001b[0m 7ms/step - accuracy: 0.3596 - loss: 1.4613 - val_accuracy: 0.3182 - val_loss: 1.4519\n",
            "Epoch 3/10\n",
            "\u001b[1m18/18\u001b[0m \u001b[32m━━━━━━━━━━━━━━━━━━━━\u001b[0m\u001b[37m\u001b[0m \u001b[1m0s\u001b[0m 7ms/step - accuracy: 0.3418 - loss: 1.4460 - val_accuracy: 0.3182 - val_loss: 1.4596\n",
            "Epoch 4/10\n",
            "\u001b[1m18/18\u001b[0m \u001b[32m━━━━━━━━━━━━━━━━━━━━\u001b[0m\u001b[37m\u001b[0m \u001b[1m0s\u001b[0m 8ms/step - accuracy: 0.3514 - loss: 1.4348 - val_accuracy: 0.3182 - val_loss: 1.4445\n",
            "Epoch 5/10\n",
            "\u001b[1m18/18\u001b[0m \u001b[32m━━━━━━━━━━━━━━━━━━━━\u001b[0m\u001b[37m\u001b[0m \u001b[1m0s\u001b[0m 7ms/step - accuracy: 0.3439 - loss: 1.4436 - val_accuracy: 0.3582 - val_loss: 1.4428\n",
            "Epoch 6/10\n",
            "\u001b[1m18/18\u001b[0m \u001b[32m━━━━━━━━━━━━━━━━━━━━\u001b[0m\u001b[37m\u001b[0m \u001b[1m0s\u001b[0m 8ms/step - accuracy: 0.3625 - loss: 1.4248 - val_accuracy: 0.3582 - val_loss: 1.4426\n",
            "Epoch 7/10\n",
            "\u001b[1m18/18\u001b[0m \u001b[32m━━━━━━━━━━━━━━━━━━━━\u001b[0m\u001b[37m\u001b[0m \u001b[1m0s\u001b[0m 7ms/step - accuracy: 0.3649 - loss: 1.4222 - val_accuracy: 0.3582 - val_loss: 1.4410\n",
            "Epoch 8/10\n",
            "\u001b[1m18/18\u001b[0m \u001b[32m━━━━━━━━━━━━━━━━━━━━\u001b[0m\u001b[37m\u001b[0m \u001b[1m0s\u001b[0m 7ms/step - accuracy: 0.3872 - loss: 1.4235 - val_accuracy: 0.3582 - val_loss: 1.4372\n",
            "Epoch 9/10\n",
            "\u001b[1m18/18\u001b[0m \u001b[32m━━━━━━━━━━━━━━━━━━━━\u001b[0m\u001b[37m\u001b[0m \u001b[1m0s\u001b[0m 7ms/step - accuracy: 0.3601 - loss: 1.4201 - val_accuracy: 0.3582 - val_loss: 1.4310\n",
            "Epoch 10/10\n",
            "\u001b[1m18/18\u001b[0m \u001b[32m━━━━━━━━━━━━━━━━━━━━\u001b[0m\u001b[37m\u001b[0m \u001b[1m0s\u001b[0m 7ms/step - accuracy: 0.3910 - loss: 1.4123 - val_accuracy: 0.3582 - val_loss: 1.4368\n"
          ]
        }
      ]
    }
  ]
}